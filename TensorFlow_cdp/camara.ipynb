{
 "cells": [
  {
   "cell_type": "code",
   "execution_count": null,
   "metadata": {},
   "outputs": [],
   "source": [
    "import cv2\n",
    "import numpy as np\n",
    "import tensorflow as tf\n",
    "model = tf.keras.models.load_model('final.model')"
   ]
  },
  {
   "cell_type": "code",
   "execution_count": null,
   "metadata": {},
   "outputs": [],
   "source": [
    "categories = ['Dog', 'Cat', 'Person']\n",
    "cap = cv2.VideoCapture(1)\n",
    "font = cv2.FONT_HERSHEY_SIMPLEX\n",
    "size = 160\n",
    "\n",
    "while(True):\n",
    "    ret, frame = cap.read()\n",
    "    image = cv2.resize(frame, (size,size))\n",
    "    choices = model.predict(image.reshape(-1, size,size,3))\n",
    "    confidence = np.sort(choices)\n",
    "    prediction = np.argsort(choices)\n",
    "    \n",
    "    if confidence[0][2] >= 0.98: \n",
    "        frame = cv2.putText(frame, categories[prediction[0][2]], (150,250), font, 3, (255,0,0), 2, cv2.LINE_AA)\n",
    "        cv2.imshow('frame', frame)\n",
    "    else:\n",
    "        frame = cv2.putText(frame, 'IM NOT SURE', (150,250), font, 1, (0,0,255), 2, cv2.LINE_AA)\n",
    "        cv2.imshow('frame', frame)\n",
    "    if cv2.waitKey(1) & 0xFF == ord('q'):\n",
    "        break\n",
    "        \n",
    "cap.release()\n",
    "cv2.destroyAllWindows()"
   ]
  },
  {
   "cell_type": "code",
   "execution_count": null,
   "metadata": {},
   "outputs": [],
   "source": []
  }
 ],
 "metadata": {
  "kernelspec": {
   "display_name": "Python (TensorFlow)",
   "language": "python",
   "name": "tensorflow"
  },
  "language_info": {
   "codemirror_mode": {
    "name": "ipython",
    "version": 3
   },
   "file_extension": ".py",
   "mimetype": "text/x-python",
   "name": "python",
   "nbconvert_exporter": "python",
   "pygments_lexer": "ipython3",
   "version": "3.6.8"
  }
 },
 "nbformat": 4,
 "nbformat_minor": 2
}

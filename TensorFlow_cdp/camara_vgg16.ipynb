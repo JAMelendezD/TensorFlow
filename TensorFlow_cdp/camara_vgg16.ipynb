{
 "cells": [
  {
   "cell_type": "code",
   "execution_count": 2,
   "metadata": {},
   "outputs": [],
   "source": [
    "import cv2\n",
    "import numpy as np\n",
    "import tensorflow as tf\n",
    "from tensorflow.keras.applications.vgg16 import VGG16\n",
    "from tensorflow.keras.applications.vgg16 import preprocess_input\n",
    "from tensorflow.keras.applications.vgg16 import decode_predictions\n",
    "model = VGG16()"
   ]
  },
  {
   "cell_type": "code",
   "execution_count": 4,
   "metadata": {},
   "outputs": [],
   "source": [
    "cap = cv2.VideoCapture(1)\n",
    "font = cv2.FONT_HERSHEY_SIMPLEX\n",
    "size = 224\n",
    "\n",
    "while(True):\n",
    "    ret, frame = cap.read()\n",
    "    new_array = cv2.resize(frame, (size, size))\n",
    "    image = new_array.reshape(-1, size,size,3)\n",
    "    image = preprocess_input(image)\n",
    "    prediction_image = model.predict(image)\n",
    "    labels_image = decode_predictions(prediction_image)\n",
    "    label_image_1 = labels_image[0][0]\n",
    "    label_image_2 = labels_image[0][1]\n",
    "    label_image_3 = labels_image[0][2]\n",
    "    label_image_4 = labels_image[0][3]\n",
    "    \n",
    "    if label_image_1[2] >= 0.8: \n",
    "        frame = cv2.putText(frame,label_image_1[1],(20,250), font, 3,(255,165,0),2,cv2.LINE_AA)\n",
    "        cv2.imshow('frame', frame)\n",
    "    elif label_image_1[2] >= 0.5:\n",
    "        frame = cv2.putText(frame,label_image_1[1],(20,150), font, 2,(0,0,255),2,cv2.LINE_AA)\n",
    "        frame = cv2.putText(frame,label_image_2[1],(20,300), font, 2,(0,0,255),2,cv2.LINE_AA)\n",
    "        cv2.imshow('frame', frame)\n",
    "    elif label_image_1[2] >= 0.25:\n",
    "        frame = cv2.putText(frame,label_image_1[1],(20,100), font, 1,(0,255,0),2,cv2.LINE_AA)\n",
    "        frame = cv2.putText(frame,label_image_2[1],(20,200), font, 1,(0,255,0),2,cv2.LINE_AA)\n",
    "        frame = cv2.putText(frame,label_image_3[1],(20,300), font, 1,(0,255,0),2,cv2.LINE_AA)\n",
    "        frame = cv2.putText(frame,label_image_4[1],(20,400), font, 1,(0,255,0),2,cv2.LINE_AA)\n",
    "        cv2.imshow('frame', frame)\n",
    "    else:\n",
    "        frame = cv2.putText(frame,'IM NOT SURE',(20,250), font, 2,(255,0,0),2,cv2.LINE_AA)\n",
    "        cv2.imshow('frame', frame)\n",
    "        \n",
    "    if cv2.waitKey(1) & 0xFF == ord('q'):\n",
    "        break\n",
    "        \n",
    "cap.release()\n",
    "cv2.destroyAllWindows()"
   ]
  },
  {
   "cell_type": "code",
   "execution_count": null,
   "metadata": {},
   "outputs": [],
   "source": []
  }
 ],
 "metadata": {
  "kernelspec": {
   "display_name": "Python (TensorFlow)",
   "language": "python",
   "name": "tensorflow"
  },
  "language_info": {
   "codemirror_mode": {
    "name": "ipython",
    "version": 3
   },
   "file_extension": ".py",
   "mimetype": "text/x-python",
   "name": "python",
   "nbconvert_exporter": "python",
   "pygments_lexer": "ipython3",
   "version": "3.6.8"
  }
 },
 "nbformat": 4,
 "nbformat_minor": 2
}

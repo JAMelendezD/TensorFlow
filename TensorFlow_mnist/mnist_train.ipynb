{
 "cells": [
  {
   "cell_type": "code",
   "execution_count": 74,
   "metadata": {},
   "outputs": [],
   "source": [
    "import tensorflow as tf\n",
    "import matplotlib.pyplot as plt\n",
    "import numpy as np\n",
    "from tensorflow.keras.layers import Dense, Dropout, Flatten, Conv1D, MaxPooling1D, GlobalAveragePooling1D"
   ]
  },
  {
   "cell_type": "code",
   "execution_count": 75,
   "metadata": {},
   "outputs": [],
   "source": [
    "mnist = tf.keras.datasets.mnist"
   ]
  },
  {
   "cell_type": "code",
   "execution_count": 76,
   "metadata": {},
   "outputs": [
    {
     "data": {
      "text/plain": [
       "<matplotlib.image.AxesImage at 0x7ff4cab58ef0>"
      ]
     },
     "execution_count": 76,
     "metadata": {},
     "output_type": "execute_result"
    },
    {
     "data": {
      "image/png": "[encoded data removed]",
      "text/plain": [
       "<Figure size 432x288 with 1 Axes>"
      ]
     },
     "metadata": {
      "needs_background": "light"
     },
     "output_type": "display_data"
    }
   ],
   "source": [
    "(mnist_x_train, mnist_y_train) , (mnist_x_test, mnist_y_test) = mnist.load_data()\n",
    "plt.imshow(mnist_x_train[0], cmap = plt.cm.binary)"
   ]
  },
  {
   "cell_type": "code",
   "execution_count": 77,
   "metadata": {},
   "outputs": [],
   "source": [
    "mnist_x_train = tf.keras.utils.normalize(mnist_x_train, axis = 1)\n",
    "mnist_x_test = tf.keras.utils.normalize(mnist_x_test, axis = 1)"
   ]
  },
  {
   "cell_type": "code",
   "execution_count": 78,
   "metadata": {},
   "outputs": [
    {
     "data": {
      "text/plain": [
       "<matplotlib.image.AxesImage at 0x7ff4ca951240>"
      ]
     },
     "execution_count": 78,
     "metadata": {},
     "output_type": "execute_result"
    },
    {
     "data": {
      "image/png": "[encoded data removed]",
      "text/plain": [
       "<Figure size 432x288 with 1 Axes>"
      ]
     },
     "metadata": {
      "needs_background": "light"
     },
     "output_type": "display_data"
    }
   ],
   "source": [
    "plt.imshow(mnist_x_train[0], cmap = plt.cm.binary)"
   ]
  },
  {
   "cell_type": "code",
   "execution_count": 79,
   "metadata": {},
   "outputs": [],
   "source": [
    "model = tf.keras.models.Sequential()\n",
    "\n",
    "model.add(Conv1D(64, 4, input_shape = mnist_x_train.shape[1:], activation = 'relu'))\n",
    "model.add(Conv1D(64, 4, activation = 'relu'))\n",
    "model.add(MaxPooling1D(pool_size=2))\n",
    "model.add(Conv1D(128, 4, input_shape = mnist_x_train.shape[1:], activation = 'relu'))\n",
    "model.add(Conv1D(128, 4, activation = 'relu'))\n",
    "model.add(GlobalAveragePooling1D())\n",
    "model.add(Dropout(0.5))\n",
    "\n",
    "model.add(tf.keras.layers.Flatten())\n",
    "model.add(tf.keras.layers.Dense(10, activation = 'softmax'))"
   ]
  },
  {
   "cell_type": "code",
   "execution_count": 80,
   "metadata": {},
   "outputs": [],
   "source": [
    "model.compile(optimizer = 'adam', loss = 'sparse_categorical_crossentropy', metrics = ['accuracy'])"
   ]
  },
  {
   "cell_type": "code",
   "execution_count": 8,
   "metadata": {},
   "outputs": [
    {
     "name": "stdout",
     "output_type": "stream",
     "text": [
      "Epoch 1/13\n",
      "60000/60000 [==============================] - 38s 627us/step - loss: 0.3169 - acc: 0.8999\n",
      "Epoch 2/13\n",
      "60000/60000 [==============================] - 36s 595us/step - loss: 0.0994 - acc: 0.9709\n",
      "Epoch 3/13\n",
      "60000/60000 [==============================] - 35s 584us/step - loss: 0.0707 - acc: 0.9797\n",
      "Epoch 4/13\n",
      "60000/60000 [==============================] - 36s 593us/step - loss: 0.0573 - acc: 0.9830\n",
      "Epoch 5/13\n",
      "60000/60000 [==============================] - 36s 598us/step - loss: 0.0444 - acc: 0.9870\n",
      "Epoch 6/13\n",
      "60000/60000 [==============================] - 36s 603us/step - loss: 0.0384 - acc: 0.9887\n",
      "Epoch 7/13\n",
      "60000/60000 [==============================] - 36s 603us/step - loss: 0.0349 - acc: 0.9897\n",
      "Epoch 8/13\n",
      "60000/60000 [==============================] - 36s 604us/step - loss: 0.0288 - acc: 0.9913\n",
      "Epoch 9/13\n",
      "60000/60000 [==============================] - 37s 614us/step - loss: 0.0286 - acc: 0.9913\n",
      "Epoch 10/13\n",
      "60000/60000 [==============================] - 37s 612us/step - loss: 0.0233 - acc: 0.9929\n",
      "Epoch 11/13\n",
      "60000/60000 [==============================] - 37s 611us/step - loss: 0.0232 - acc: 0.9932\n",
      "Epoch 12/13\n",
      "60000/60000 [==============================] - 35s 576us/step - loss: 0.0191 - acc: 0.9939\n",
      "Epoch 13/13\n",
      "60000/60000 [==============================] - 38s 632us/step - loss: 0.0193 - acc: 0.9944\n",
      "10000/10000 [==============================] - 2s 174us/step\n",
      "0.03859782210859921 0.9917\n",
      "CPU times: user 15min 44s, sys: 9min 4s, total: 24min 49s\n",
      "Wall time: 7min 53s\n"
     ]
    }
   ],
   "source": [
    "%%time\n",
    "model.fit(mnist_x_train,mnist_y_train, epochs = 13)\n",
    "mnist_val_loss, mnist_val_acc = model.evaluate(mnist_x_test,mnist_y_test)\n",
    "print(mnist_val_loss,mnist_val_acc)"
   ]
  },
  {
   "cell_type": "code",
   "execution_count": 9,
   "metadata": {},
   "outputs": [],
   "source": [
    "model.save('mnist_9917.model')"
   ]
  }
 ],
 "metadata": {
  "kernelspec": {
   "display_name": "Python (TensorFlow)",
   "language": "python",
   "name": "tensorflow"
  },
  "language_info": {
   "codemirror_mode": {
    "name": "ipython",
    "version": 3
   },
   "file_extension": ".py",
   "mimetype": "text/x-python",
   "name": "python",
   "nbconvert_exporter": "python",
   "pygments_lexer": "ipython3",
   "version": "3.6.8"
  }
 },
 "nbformat": 4,
 "nbformat_minor": 2
}

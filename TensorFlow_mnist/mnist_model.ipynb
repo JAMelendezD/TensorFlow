{
 "cells": [
  {
   "cell_type": "code",
   "execution_count": 32,
   "metadata": {},
   "outputs": [],
   "source": [
    "import tensorflow as tf\n",
    "import matplotlib.pyplot as plt\n",
    "import numpy as np\n",
    "import cv2"
   ]
  },
  {
   "cell_type": "code",
   "execution_count": 35,
   "metadata": {},
   "outputs": [],
   "source": [
    "mnist = tf.keras.datasets.mnist\n",
    "(mnist_x_train, mnist_y_train) , (mnist_x_test, mnist_y_test) = mnist.load_data()\n",
    "mnist_x_train = tf.keras.utils.normalize(mnist_x_train, axis = 1)\n",
    "mnist_x_test = tf.keras.utils.normalize(mnist_x_test, axis = 1)"
   ]
  },
  {
   "cell_type": "code",
   "execution_count": 13,
   "metadata": {},
   "outputs": [],
   "source": [
    "model = tf.keras.models.load_model('mnist_9917.model')\n",
    "predictions = model.predict(mnist_x_test)"
   ]
  },
  {
   "cell_type": "code",
   "execution_count": 19,
   "metadata": {},
   "outputs": [],
   "source": [
    "def wrong(data):\n",
    "    counter = 0\n",
    "    for i in range(len(data)):\n",
    "        if np.argmax(predictions[i]) != data[i]:\n",
    "            counter += 1\n",
    "            plt.imshow(mnist_x_test[i], cmap = plt.cm.binary)\n",
    "            plt.show()\n",
    "            plt.close()\n",
    "    print(counter)\n",
    "    \n",
    "def show_file(filepath):\n",
    "    IMG_SIZE = 28\n",
    "    img_array = cv2.imread(filepath, cv2.IMREAD_GRAYSCALE)\n",
    "    new_array = cv2.resize(img_array, (IMG_SIZE,IMG_SIZE))\n",
    "    last_array = tf.keras.utils.normalize(new_array, axis = 1)\n",
    "    plt.imshow(last_array, cmap='gray_r')\n",
    "\n",
    "def prepare_file(filepath):\n",
    "    IMG_SIZE = 28\n",
    "    img_array = cv2.imread(filepath, cv2.IMREAD_GRAYSCALE)\n",
    "    new_array = cv2.resize(img_array, (IMG_SIZE,IMG_SIZE))\n",
    "    last_array = tf.keras.utils.normalize(new_array, axis = 1)\n",
    "    return last_array.reshape(-1, IMG_SIZE,IMG_SIZE)\n",
    "\n",
    "def predict(filepath):\n",
    "    show_file(filepath)\n",
    "    prediction = model.predict([prepare_file(filepath)])\n",
    "    print('The number you wrote is: ', np.argmax(prediction))"
   ]
  },
  {
   "cell_type": "code",
   "execution_count": null,
   "metadata": {},
   "outputs": [],
   "source": [
    "wrong(mnist_y_test) # Counts and shows all the wrong numbers from mnist-test"
   ]
  },
  {
   "cell_type": "code",
   "execution_count": 28,
   "metadata": {},
   "outputs": [
    {
     "name": "stdout",
     "output_type": "stream",
     "text": [
      "The number you wrote is:  3\n"
     ]
    },
    {
     "data": {
      "image/png": "[encoded data removed]",
      "text/plain": [
       "<Figure size 432x288 with 1 Axes>"
      ]
     },
     "metadata": {
      "needs_background": "light"
     },
     "output_type": "display_data"
    }
   ],
   "source": [
    "predict('number_3.png')"
   ]
  },
  {
   "cell_type": "code",
   "execution_count": 29,
   "metadata": {},
   "outputs": [
    {
     "name": "stdout",
     "output_type": "stream",
     "text": [
      "The number you wrote is:  7\n"
     ]
    },
    {
     "data": {
      "image/png": "[encoded data removed]",
      "text/plain": [
       "<Figure size 432x288 with 1 Axes>"
      ]
     },
     "metadata": {
      "needs_background": "light"
     },
     "output_type": "display_data"
    }
   ],
   "source": [
    "predict('number_7.png')"
   ]
  },
  {
   "cell_type": "code",
   "execution_count": 30,
   "metadata": {},
   "outputs": [
    {
     "name": "stdout",
     "output_type": "stream",
     "text": [
      "The number you wrote is:  4\n"
     ]
    },
    {
     "data": {
      "image/png": "[encoded data removed]",
      "text/plain": [
       "<Figure size 432x288 with 1 Axes>"
      ]
     },
     "metadata": {
      "needs_background": "light"
     },
     "output_type": "display_data"
    }
   ],
   "source": [
    "predict('number_4.png')"
   ]
  }
 ],
 "metadata": {
  "kernelspec": {
   "display_name": "Python (TensorFlow)",
   "language": "python",
   "name": "tensorflow"
  },
  "language_info": {
   "codemirror_mode": {
    "name": "ipython",
    "version": 3
   },
   "file_extension": ".py",
   "mimetype": "text/x-python",
   "name": "python",
   "nbconvert_exporter": "python",
   "pygments_lexer": "ipython3",
   "version": "3.6.8"
  }
 },
 "nbformat": 4,
 "nbformat_minor": 2
}

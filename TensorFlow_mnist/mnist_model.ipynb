{
 "cells": [
  {
   "cell_type": "code",
   "execution_count": 28,
   "metadata": {},
   "outputs": [],
   "source": [
    "import tensorflow as tf\n",
    "import matplotlib.pyplot as plt\n",
    "import numpy as np\n",
    "import cv2\n",
    "import math"
   ]
  },
  {
   "cell_type": "code",
   "execution_count": 2,
   "metadata": {},
   "outputs": [],
   "source": [
    "mnist = tf.keras.datasets.mnist\n",
    "(mnist_x_train, mnist_y_train) , (mnist_x_test, mnist_y_test) = mnist.load_data()\n",
    "mnist_x_train = tf.keras.utils.normalize(mnist_x_train, axis = 1)\n",
    "mnist_x_test = tf.keras.utils.normalize(mnist_x_test, axis = 1)"
   ]
  },
  {
   "cell_type": "code",
   "execution_count": 59,
   "metadata": {},
   "outputs": [
    {
     "name": "stdout",
     "output_type": "stream",
     "text": [
      "_________________________________________________________________\n",
      "Layer (type)                 Output Shape              Param #   \n",
      "=================================================================\n",
      "conv1d (Conv1D)              (None, 25, 64)            7232      \n",
      "_________________________________________________________________\n",
      "conv1d_1 (Conv1D)            (None, 22, 64)            16448     \n",
      "_________________________________________________________________\n",
      "max_pooling1d (MaxPooling1D) (None, 11, 64)            0         \n",
      "_________________________________________________________________\n",
      "conv1d_2 (Conv1D)            (None, 8, 128)            32896     \n",
      "_________________________________________________________________\n",
      "conv1d_3 (Conv1D)            (None, 5, 128)            65664     \n",
      "_________________________________________________________________\n",
      "global_average_pooling1d (Gl (None, 128)               0         \n",
      "_________________________________________________________________\n",
      "dropout (Dropout)            (None, 128)               0         \n",
      "_________________________________________________________________\n",
      "flatten (Flatten)            (None, 128)               0         \n",
      "_________________________________________________________________\n",
      "dense (Dense)                (None, 10)                1290      \n",
      "=================================================================\n",
      "Total params: 123,530\n",
      "Trainable params: 123,530\n",
      "Non-trainable params: 0\n",
      "_________________________________________________________________\n"
     ]
    }
   ],
   "source": [
    "model = tf.keras.models.load_model('mnist_9917.model')\n",
    "model.summary()"
   ]
  },
  {
   "cell_type": "code",
   "execution_count": 57,
   "metadata": {},
   "outputs": [],
   "source": [
    "def wrong(data):\n",
    "    predictions = model.predict(mnist_x_test)\n",
    "    counter = 0\n",
    "    for i in range(len(data)):\n",
    "        if np.argmax(predictions[i]) != data[i]:\n",
    "            counter += 1\n",
    "            plt.imshow(mnist_x_test[i], cmap = plt.cm.binary)\n",
    "            plt.show()\n",
    "            plt.close()\n",
    "    print(counter)\n",
    "    \n",
    "def predict(filepath):\n",
    "    IMG_SIZE = 28\n",
    "    img_array = cv2.imread(filepath, cv2.IMREAD_GRAYSCALE)\n",
    "    new_array = cv2.resize(img_array, (IMG_SIZE,IMG_SIZE))\n",
    "    last_array = tf.keras.utils.normalize(new_array, axis = 1)\n",
    "    prediction = model.predict([last_array.reshape(-1, IMG_SIZE,IMG_SIZE)])\n",
    "    print('The number you wrote is: ', np.argmax(prediction))\n",
    "    plt.figure(figsize=(15,5))\n",
    "    plt.subplot(121)\n",
    "    plt.imshow(last_array, cmap='gray_r')\n",
    "    plt.subplot(122)\n",
    "    x = np.linspace(0,9,10)\n",
    "    plt.xticks(x)\n",
    "    plt.bar(x,list(prediction)[0])\n",
    "    \n",
    "def plot_conv_weights(weights):\n",
    "    w_min = np.min(weights)\n",
    "    w_max = np.max(weights)\n",
    "    num_filters = weights.shape[2]\n",
    "    num_grids = math.ceil(np.sqrt(num_filters))\n",
    "    fig, axes = plt.subplots(num_grids, num_grids)\n",
    "\n",
    "    for i, ax in enumerate(axes.flat):\n",
    "        if i<num_filters:\n",
    "            img = weights[:, map([1,1,1,1], zip(*l)), i]\n",
    "            ax.imshow(img, vmin=w_min, vmax=w_max, interpolation='nearest', cmap='seismic')\n",
    "        ax.set_xticks([])\n",
    "        ax.set_yticks([])\n",
    "    plt.show()"
   ]
  },
  {
   "cell_type": "code",
   "execution_count": null,
   "metadata": {},
   "outputs": [],
   "source": [
    "wrong(mnist_y_test) # Counts and shows all the wrong numbers from mnist-test"
   ]
  },
  {
   "cell_type": "code",
   "execution_count": 5,
   "metadata": {},
   "outputs": [
    {
     "name": "stdout",
     "output_type": "stream",
     "text": [
      "The number you wrote is:  3\n"
     ]
    },
    {
     "data": {
      "image/png": "[encoded data removed]",
      "text/plain": [
       "<Figure size 1080x360 with 2 Axes>"
      ]
     },
     "metadata": {
      "needs_background": "light"
     },
     "output_type": "display_data"
    }
   ],
   "source": [
    "predict('number_3.png')"
   ]
  },
  {
   "cell_type": "code",
   "execution_count": 6,
   "metadata": {},
   "outputs": [
    {
     "name": "stdout",
     "output_type": "stream",
     "text": [
      "The number you wrote is:  7\n"
     ]
    },
    {
     "data": {
      "image/png": "[encoded data removed]",
      "text/plain": [
       "<Figure size 1080x360 with 2 Axes>"
      ]
     },
     "metadata": {
      "needs_background": "light"
     },
     "output_type": "display_data"
    }
   ],
   "source": [
    "predict('number_7.png')"
   ]
  },
  {
   "cell_type": "code",
   "execution_count": 47,
   "metadata": {},
   "outputs": [
    {
     "name": "stdout",
     "output_type": "stream",
     "text": [
      "The number you wrote is:  4\n"
     ]
    },
    {
     "data": {
      "image/png": "[encoded data removed]",
      "text/plain": [
       "<Figure size 1080x360 with 2 Axes>"
      ]
     },
     "metadata": {
      "needs_background": "light"
     },
     "output_type": "display_data"
    }
   ],
   "source": [
    "predict('number_4.png')"
   ]
  }
 ],
 "metadata": {
  "kernelspec": {
   "display_name": "Python (TensorFlow)",
   "language": "python",
   "name": "tensorflow"
  },
  "language_info": {
   "codemirror_mode": {
    "name": "ipython",
    "version": 3
   },
   "file_extension": ".py",
   "mimetype": "text/x-python",
   "name": "python",
   "nbconvert_exporter": "python",
   "pygments_lexer": "ipython3",
   "version": "3.6.8"
  }
 },
 "nbformat": 4,
 "nbformat_minor": 2
}
